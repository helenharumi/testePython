{
  "nbformat": 4,
  "nbformat_minor": 0,
  "metadata": {
    "colab": {
      "name": "testeComArquivoTxtPython.ipynb",
      "provenance": [],
      "collapsed_sections": []
    },
    "kernelspec": {
      "name": "python3",
      "display_name": "Python 3"
    },
    "language_info": {
      "name": "python"
    }
  },
  "cells": [
    {
      "cell_type": "code",
      "metadata": {
        "colab": {
          "base_uri": "https://localhost:8080/",
          "height": 708
        },
        "id": "h9o8zHbOqXOV",
        "outputId": "69eebb8e-74ac-47c0-8dc5-92c3899d58f4"
      },
      "source": [
        "import pandas as pd\n",
        "\n",
        "url_dados = 'https://github.com/helenharumi/testePython/blob/master/dados/04-2020.txt?raw=true'\n",
        "\n",
        "lista=pd.read_table(url_dados, sep=';')\n",
        "lista"
      ],
      "execution_count": 15,
      "outputs": [
        {
          "output_type": "execute_result",
          "data": {
            "text/html": [
              "<div>\n",
              "<style scoped>\n",
              "    .dataframe tbody tr th:only-of-type {\n",
              "        vertical-align: middle;\n",
              "    }\n",
              "\n",
              "    .dataframe tbody tr th {\n",
              "        vertical-align: top;\n",
              "    }\n",
              "\n",
              "    .dataframe thead th {\n",
              "        text-align: right;\n",
              "    }\n",
              "</style>\n",
              "<table border=\"1\" class=\"dataframe\">\n",
              "  <thead>\n",
              "    <tr style=\"text-align: right;\">\n",
              "      <th></th>\n",
              "      <th>especie</th>\n",
              "      <th>despacho</th>\n",
              "      <th>sexo</th>\n",
              "      <th>qt_sm</th>\n",
              "      <th>comp_ano</th>\n",
              "      <th>comp_mes</th>\n",
              "      <th>idade_conc</th>\n",
              "      <th>municipio</th>\n",
              "      <th>sigla_uf</th>\n",
              "      <th>cid</th>\n",
              "      <th>categoria</th>\n",
              "      <th>total</th>\n",
              "    </tr>\n",
              "  </thead>\n",
              "  <tbody>\n",
              "    <tr>\n",
              "      <th>0</th>\n",
              "      <td>Auxílio Doenca Previdenciário</td>\n",
              "      <td>Concessao Normal</td>\n",
              "      <td>Feminino</td>\n",
              "      <td>1</td>\n",
              "      <td>2020</td>\n",
              "      <td>5</td>\n",
              "      <td>54</td>\n",
              "      <td>Feira Grande</td>\n",
              "      <td>AL</td>\n",
              "      <td>Transtorno do disco cervical com radiculopatia</td>\n",
              "      <td>Transtornos dos discos cervicais</td>\n",
              "      <td>1</td>\n",
              "    </tr>\n",
              "    <tr>\n",
              "      <th>1</th>\n",
              "      <td>Auxílio Doenca Previdenciário</td>\n",
              "      <td>Concessao Normal</td>\n",
              "      <td>Feminino</td>\n",
              "      <td>1</td>\n",
              "      <td>2020</td>\n",
              "      <td>5</td>\n",
              "      <td>33</td>\n",
              "      <td>Canapi</td>\n",
              "      <td>AL</td>\n",
              "      <td>Calculose da vesícula biliar com colicistite a...</td>\n",
              "      <td>Colelitíase</td>\n",
              "      <td>1</td>\n",
              "    </tr>\n",
              "    <tr>\n",
              "      <th>2</th>\n",
              "      <td>Auxílio Doenca Previdenciário</td>\n",
              "      <td>Concessao Normal</td>\n",
              "      <td>Masculino</td>\n",
              "      <td>1</td>\n",
              "      <td>2020</td>\n",
              "      <td>5</td>\n",
              "      <td>52</td>\n",
              "      <td>Santana do Ipanema</td>\n",
              "      <td>AL</td>\n",
              "      <td>NaN</td>\n",
              "      <td>NaN</td>\n",
              "      <td>1</td>\n",
              "    </tr>\n",
              "    <tr>\n",
              "      <th>3</th>\n",
              "      <td>Auxílio Doenca Previdenciário</td>\n",
              "      <td>Conc. Base Artigo 27 Inciso Ii do Rbps</td>\n",
              "      <td>Masculino</td>\n",
              "      <td>1,741</td>\n",
              "      <td>2020</td>\n",
              "      <td>5</td>\n",
              "      <td>37</td>\n",
              "      <td>Campo Grande</td>\n",
              "      <td>AL</td>\n",
              "      <td>Hemorragia intracerebral hemisférica cortical</td>\n",
              "      <td>Hemorragia intracerebral</td>\n",
              "      <td>1</td>\n",
              "    </tr>\n",
              "    <tr>\n",
              "      <th>4</th>\n",
              "      <td>Auxílio Doenca Previdenciário</td>\n",
              "      <td>Concessao Normal</td>\n",
              "      <td>Feminino</td>\n",
              "      <td>1</td>\n",
              "      <td>2020</td>\n",
              "      <td>5</td>\n",
              "      <td>41</td>\n",
              "      <td>Anadia</td>\n",
              "      <td>AL</td>\n",
              "      <td>Nódulo mamário não especificado</td>\n",
              "      <td>Nódulo mamário não especificado</td>\n",
              "      <td>1</td>\n",
              "    </tr>\n",
              "    <tr>\n",
              "      <th>...</th>\n",
              "      <td>...</td>\n",
              "      <td>...</td>\n",
              "      <td>...</td>\n",
              "      <td>...</td>\n",
              "      <td>...</td>\n",
              "      <td>...</td>\n",
              "      <td>...</td>\n",
              "      <td>...</td>\n",
              "      <td>...</td>\n",
              "      <td>...</td>\n",
              "      <td>...</td>\n",
              "      <td>...</td>\n",
              "    </tr>\n",
              "    <tr>\n",
              "      <th>162231</th>\n",
              "      <td>Auxílio Doenca Previdenciário</td>\n",
              "      <td>Concessao Normal</td>\n",
              "      <td>Masculino</td>\n",
              "      <td>1</td>\n",
              "      <td>2020</td>\n",
              "      <td>5</td>\n",
              "      <td>34</td>\n",
              "      <td>São Miguel do Tocantins</td>\n",
              "      <td>TO</td>\n",
              "      <td>Menisco discóide (congênito)</td>\n",
              "      <td>Transtornos internos dos joelhos</td>\n",
              "      <td>1</td>\n",
              "    </tr>\n",
              "    <tr>\n",
              "      <th>162232</th>\n",
              "      <td>Auxílio Doenca Previdenciário</td>\n",
              "      <td>Concessao Normal</td>\n",
              "      <td>Feminino</td>\n",
              "      <td>1</td>\n",
              "      <td>2020</td>\n",
              "      <td>5</td>\n",
              "      <td>21</td>\n",
              "      <td>Araguaína</td>\n",
              "      <td>TO</td>\n",
              "      <td>NaN</td>\n",
              "      <td>NaN</td>\n",
              "      <td>1</td>\n",
              "    </tr>\n",
              "    <tr>\n",
              "      <th>162233</th>\n",
              "      <td>Auxílio Doenca Previdenciário</td>\n",
              "      <td>Concessao Normal</td>\n",
              "      <td>Masculino</td>\n",
              "      <td>1</td>\n",
              "      <td>2020</td>\n",
              "      <td>5</td>\n",
              "      <td>31</td>\n",
              "      <td>Araguaína</td>\n",
              "      <td>TO</td>\n",
              "      <td>Transtorno não especificado de disco intervert...</td>\n",
              "      <td>Outros transtornos de discos intervertebrais</td>\n",
              "      <td>1</td>\n",
              "    </tr>\n",
              "    <tr>\n",
              "      <th>162234</th>\n",
              "      <td>Auxílio Doenca Previdenciário</td>\n",
              "      <td>Concessao Normal</td>\n",
              "      <td>Feminino</td>\n",
              "      <td>1</td>\n",
              "      <td>2020</td>\n",
              "      <td>5</td>\n",
              "      <td>43</td>\n",
              "      <td>Santa Fé do Araguaia</td>\n",
              "      <td>TO</td>\n",
              "      <td>Pé chato [pé plano] (adquirido)</td>\n",
              "      <td>Outras deformidades adquiridas dos membros</td>\n",
              "      <td>1</td>\n",
              "    </tr>\n",
              "    <tr>\n",
              "      <th>162235</th>\n",
              "      <td>Auxílio Doenca Previdenciário</td>\n",
              "      <td>Concessao Decorrente de Acao Judicial</td>\n",
              "      <td>Masculino</td>\n",
              "      <td>2,991</td>\n",
              "      <td>2020</td>\n",
              "      <td>5</td>\n",
              "      <td>54</td>\n",
              "      <td>Gurupi</td>\n",
              "      <td>TO</td>\n",
              "      <td>NaN</td>\n",
              "      <td>NaN</td>\n",
              "      <td>1</td>\n",
              "    </tr>\n",
              "  </tbody>\n",
              "</table>\n",
              "<p>162236 rows × 12 columns</p>\n",
              "</div>"
            ],
            "text/plain": [
              "                              especie  ... total\n",
              "0       Auxílio Doenca Previdenciário  ...     1\n",
              "1       Auxílio Doenca Previdenciário  ...     1\n",
              "2       Auxílio Doenca Previdenciário  ...     1\n",
              "3       Auxílio Doenca Previdenciário  ...     1\n",
              "4       Auxílio Doenca Previdenciário  ...     1\n",
              "...                               ...  ...   ...\n",
              "162231  Auxílio Doenca Previdenciário  ...     1\n",
              "162232  Auxílio Doenca Previdenciário  ...     1\n",
              "162233  Auxílio Doenca Previdenciário  ...     1\n",
              "162234  Auxílio Doenca Previdenciário  ...     1\n",
              "162235  Auxílio Doenca Previdenciário  ...     1\n",
              "\n",
              "[162236 rows x 12 columns]"
            ]
          },
          "metadata": {
            "tags": []
          },
          "execution_count": 15
        }
      ]
    },
    {
      "cell_type": "markdown",
      "metadata": {
        "id": "CHVmkVQJ3-Lv"
      },
      "source": [
        "\n",
        "\n",
        "Mostra as 5 primeiras linhas\n"
      ]
    },
    {
      "cell_type": "code",
      "metadata": {
        "colab": {
          "base_uri": "https://localhost:8080/",
          "height": 306
        },
        "id": "UUEit7U534X0",
        "outputId": "9d8fc492-d3d4-431c-c854-016dec5894b6"
      },
      "source": [
        "lista.head()"
      ],
      "execution_count": 16,
      "outputs": [
        {
          "output_type": "execute_result",
          "data": {
            "text/html": [
              "<div>\n",
              "<style scoped>\n",
              "    .dataframe tbody tr th:only-of-type {\n",
              "        vertical-align: middle;\n",
              "    }\n",
              "\n",
              "    .dataframe tbody tr th {\n",
              "        vertical-align: top;\n",
              "    }\n",
              "\n",
              "    .dataframe thead th {\n",
              "        text-align: right;\n",
              "    }\n",
              "</style>\n",
              "<table border=\"1\" class=\"dataframe\">\n",
              "  <thead>\n",
              "    <tr style=\"text-align: right;\">\n",
              "      <th></th>\n",
              "      <th>especie</th>\n",
              "      <th>despacho</th>\n",
              "      <th>sexo</th>\n",
              "      <th>qt_sm</th>\n",
              "      <th>comp_ano</th>\n",
              "      <th>comp_mes</th>\n",
              "      <th>idade_conc</th>\n",
              "      <th>municipio</th>\n",
              "      <th>sigla_uf</th>\n",
              "      <th>cid</th>\n",
              "      <th>categoria</th>\n",
              "      <th>total</th>\n",
              "    </tr>\n",
              "  </thead>\n",
              "  <tbody>\n",
              "    <tr>\n",
              "      <th>0</th>\n",
              "      <td>Auxílio Doenca Previdenciário</td>\n",
              "      <td>Concessao Normal</td>\n",
              "      <td>Feminino</td>\n",
              "      <td>1</td>\n",
              "      <td>2020</td>\n",
              "      <td>5</td>\n",
              "      <td>54</td>\n",
              "      <td>Feira Grande</td>\n",
              "      <td>AL</td>\n",
              "      <td>Transtorno do disco cervical com radiculopatia</td>\n",
              "      <td>Transtornos dos discos cervicais</td>\n",
              "      <td>1</td>\n",
              "    </tr>\n",
              "    <tr>\n",
              "      <th>1</th>\n",
              "      <td>Auxílio Doenca Previdenciário</td>\n",
              "      <td>Concessao Normal</td>\n",
              "      <td>Feminino</td>\n",
              "      <td>1</td>\n",
              "      <td>2020</td>\n",
              "      <td>5</td>\n",
              "      <td>33</td>\n",
              "      <td>Canapi</td>\n",
              "      <td>AL</td>\n",
              "      <td>Calculose da vesícula biliar com colicistite a...</td>\n",
              "      <td>Colelitíase</td>\n",
              "      <td>1</td>\n",
              "    </tr>\n",
              "    <tr>\n",
              "      <th>2</th>\n",
              "      <td>Auxílio Doenca Previdenciário</td>\n",
              "      <td>Concessao Normal</td>\n",
              "      <td>Masculino</td>\n",
              "      <td>1</td>\n",
              "      <td>2020</td>\n",
              "      <td>5</td>\n",
              "      <td>52</td>\n",
              "      <td>Santana do Ipanema</td>\n",
              "      <td>AL</td>\n",
              "      <td>NaN</td>\n",
              "      <td>NaN</td>\n",
              "      <td>1</td>\n",
              "    </tr>\n",
              "    <tr>\n",
              "      <th>3</th>\n",
              "      <td>Auxílio Doenca Previdenciário</td>\n",
              "      <td>Conc. Base Artigo 27 Inciso Ii do Rbps</td>\n",
              "      <td>Masculino</td>\n",
              "      <td>1,741</td>\n",
              "      <td>2020</td>\n",
              "      <td>5</td>\n",
              "      <td>37</td>\n",
              "      <td>Campo Grande</td>\n",
              "      <td>AL</td>\n",
              "      <td>Hemorragia intracerebral hemisférica cortical</td>\n",
              "      <td>Hemorragia intracerebral</td>\n",
              "      <td>1</td>\n",
              "    </tr>\n",
              "    <tr>\n",
              "      <th>4</th>\n",
              "      <td>Auxílio Doenca Previdenciário</td>\n",
              "      <td>Concessao Normal</td>\n",
              "      <td>Feminino</td>\n",
              "      <td>1</td>\n",
              "      <td>2020</td>\n",
              "      <td>5</td>\n",
              "      <td>41</td>\n",
              "      <td>Anadia</td>\n",
              "      <td>AL</td>\n",
              "      <td>Nódulo mamário não especificado</td>\n",
              "      <td>Nódulo mamário não especificado</td>\n",
              "      <td>1</td>\n",
              "    </tr>\n",
              "  </tbody>\n",
              "</table>\n",
              "</div>"
            ],
            "text/plain": [
              "                         especie  ... total\n",
              "0  Auxílio Doenca Previdenciário  ...     1\n",
              "1  Auxílio Doenca Previdenciário  ...     1\n",
              "2  Auxílio Doenca Previdenciário  ...     1\n",
              "3  Auxílio Doenca Previdenciário  ...     1\n",
              "4  Auxílio Doenca Previdenciário  ...     1\n",
              "\n",
              "[5 rows x 12 columns]"
            ]
          },
          "metadata": {
            "tags": []
          },
          "execution_count": 16
        }
      ]
    },
    {
      "cell_type": "markdown",
      "metadata": {
        "id": "tLVPisWw3gRS"
      },
      "source": [
        "Número de linhas e coluna"
      ]
    },
    {
      "cell_type": "code",
      "metadata": {
        "colab": {
          "base_uri": "https://localhost:8080/"
        },
        "id": "vhm-aX0_sQSD",
        "outputId": "31ac9dc0-4934-41e0-8fa2-973f79cc2440"
      },
      "source": [
        "lista.shape"
      ],
      "execution_count": 17,
      "outputs": [
        {
          "output_type": "execute_result",
          "data": {
            "text/plain": [
              "(162236, 12)"
            ]
          },
          "metadata": {
            "tags": []
          },
          "execution_count": 17
        }
      ]
    },
    {
      "cell_type": "code",
      "metadata": {
        "colab": {
          "base_uri": "https://localhost:8080/",
          "height": 479
        },
        "id": "RZNQzAcTv0-J",
        "outputId": "45204a0a-911c-4546-abe7-b27fb966921c"
      },
      "source": [
        "lista['despacho'].value_counts().plot.bar()"
      ],
      "execution_count": 18,
      "outputs": [
        {
          "output_type": "execute_result",
          "data": {
            "text/plain": [
              "<matplotlib.axes._subplots.AxesSubplot at 0x7f3ab87ec650>"
            ]
          },
          "metadata": {
            "tags": []
          },
          "execution_count": 18
        },
        {
          "output_type": "display_data",
          "data": {
            "image/png": "[encoded data removed]",
            "text/plain": [
              "<Figure size 432x288 with 1 Axes>"
            ]
          },
          "metadata": {
            "tags": [],
            "needs_background": "light"
          }
        }
      ]
    },
    {
      "cell_type": "code",
      "metadata": {
        "colab": {
          "base_uri": "https://localhost:8080/"
        },
        "id": "7zYL7vGetfi8",
        "outputId": "e94c3712-9626-446d-daae-51537e94a7c3"
      },
      "source": [
        "lista['despacho'].unique()"
      ],
      "execution_count": 7,
      "outputs": [
        {
          "output_type": "execute_result",
          "data": {
            "text/plain": [
              "array(['Concessao Normal', 'Conc. Base Artigo 27 Inciso Ii do Rbps',\n",
              "       'Conc. Decorrente Revisao Administrativa',\n",
              "       'Concessao Decorrente de Acao Judicial',\n",
              "       'Concessao em Fase Recursal',\n",
              "       'Conc. com Base Artigo 35 da Lei 8213/91'], dtype=object)"
            ]
          },
          "metadata": {
            "tags": []
          },
          "execution_count": 7
        }
      ]
    },
    {
      "cell_type": "code",
      "metadata": {
        "colab": {
          "base_uri": "https://localhost:8080/"
        },
        "id": "Lwcidt4SuuXy",
        "outputId": "a5cea474-358f-46d8-d094-5b40800dcd87"
      },
      "source": [
        "lista['despacho'].value_counts()"
      ],
      "execution_count": 8,
      "outputs": [
        {
          "output_type": "execute_result",
          "data": {
            "text/plain": [
              "Concessao Normal                           144931\n",
              "Concessao Decorrente de Acao Judicial       14032\n",
              "Conc. Base Artigo 27 Inciso Ii do Rbps       2150\n",
              "Conc. Decorrente Revisao Administrativa       662\n",
              "Concessao em Fase Recursal                    454\n",
              "Conc. com Base Artigo 35 da Lei 8213/91         7\n",
              "Name: despacho, dtype: int64"
            ]
          },
          "metadata": {
            "tags": []
          },
          "execution_count": 8
        }
      ]
    },
    {
      "cell_type": "code",
      "metadata": {
        "colab": {
          "base_uri": "https://localhost:8080/"
        },
        "id": "uFthR56FvBpd",
        "outputId": "e646dd3b-f74a-4453-a7b9-0bffd46d4537"
      },
      "source": [
        "lista['despacho'].value_counts(normalize = True)"
      ],
      "execution_count": 9,
      "outputs": [
        {
          "output_type": "execute_result",
          "data": {
            "text/plain": [
              "Concessao Normal                           0.893334\n",
              "Concessao Decorrente de Acao Judicial      0.086491\n",
              "Conc. Base Artigo 27 Inciso Ii do Rbps     0.013252\n",
              "Conc. Decorrente Revisao Administrativa    0.004080\n",
              "Concessao em Fase Recursal                 0.002798\n",
              "Conc. com Base Artigo 35 da Lei 8213/91    0.000043\n",
              "Name: despacho, dtype: float64"
            ]
          },
          "metadata": {
            "tags": []
          },
          "execution_count": 9
        }
      ]
    },
    {
      "cell_type": "code",
      "metadata": {
        "colab": {
          "base_uri": "https://localhost:8080/",
          "height": 297
        },
        "id": "o8x6CkhIyINo",
        "outputId": "19da8793-a621-4169-b8fd-db475bea0dea"
      },
      "source": [
        "lista.describe()"
      ],
      "execution_count": 10,
      "outputs": [
        {
          "output_type": "execute_result",
          "data": {
            "text/html": [
              "<div>\n",
              "<style scoped>\n",
              "    .dataframe tbody tr th:only-of-type {\n",
              "        vertical-align: middle;\n",
              "    }\n",
              "\n",
              "    .dataframe tbody tr th {\n",
              "        vertical-align: top;\n",
              "    }\n",
              "\n",
              "    .dataframe thead th {\n",
              "        text-align: right;\n",
              "    }\n",
              "</style>\n",
              "<table border=\"1\" class=\"dataframe\">\n",
              "  <thead>\n",
              "    <tr style=\"text-align: right;\">\n",
              "      <th></th>\n",
              "      <th>comp_ano</th>\n",
              "      <th>comp_mes</th>\n",
              "      <th>idade_conc</th>\n",
              "      <th>total</th>\n",
              "    </tr>\n",
              "  </thead>\n",
              "  <tbody>\n",
              "    <tr>\n",
              "      <th>count</th>\n",
              "      <td>162236.0</td>\n",
              "      <td>162236.0</td>\n",
              "      <td>162236.000000</td>\n",
              "      <td>162236.0</td>\n",
              "    </tr>\n",
              "    <tr>\n",
              "      <th>mean</th>\n",
              "      <td>2020.0</td>\n",
              "      <td>5.0</td>\n",
              "      <td>42.875034</td>\n",
              "      <td>1.0</td>\n",
              "    </tr>\n",
              "    <tr>\n",
              "      <th>std</th>\n",
              "      <td>0.0</td>\n",
              "      <td>0.0</td>\n",
              "      <td>11.644163</td>\n",
              "      <td>0.0</td>\n",
              "    </tr>\n",
              "    <tr>\n",
              "      <th>min</th>\n",
              "      <td>2020.0</td>\n",
              "      <td>5.0</td>\n",
              "      <td>2.000000</td>\n",
              "      <td>1.0</td>\n",
              "    </tr>\n",
              "    <tr>\n",
              "      <th>25%</th>\n",
              "      <td>2020.0</td>\n",
              "      <td>5.0</td>\n",
              "      <td>34.000000</td>\n",
              "      <td>1.0</td>\n",
              "    </tr>\n",
              "    <tr>\n",
              "      <th>50%</th>\n",
              "      <td>2020.0</td>\n",
              "      <td>5.0</td>\n",
              "      <td>43.000000</td>\n",
              "      <td>1.0</td>\n",
              "    </tr>\n",
              "    <tr>\n",
              "      <th>75%</th>\n",
              "      <td>2020.0</td>\n",
              "      <td>5.0</td>\n",
              "      <td>52.000000</td>\n",
              "      <td>1.0</td>\n",
              "    </tr>\n",
              "    <tr>\n",
              "      <th>max</th>\n",
              "      <td>2020.0</td>\n",
              "      <td>5.0</td>\n",
              "      <td>90.000000</td>\n",
              "      <td>1.0</td>\n",
              "    </tr>\n",
              "  </tbody>\n",
              "</table>\n",
              "</div>"
            ],
            "text/plain": [
              "       comp_ano  comp_mes     idade_conc     total\n",
              "count  162236.0  162236.0  162236.000000  162236.0\n",
              "mean     2020.0       5.0      42.875034       1.0\n",
              "std         0.0       0.0      11.644163       0.0\n",
              "min      2020.0       5.0       2.000000       1.0\n",
              "25%      2020.0       5.0      34.000000       1.0\n",
              "50%      2020.0       5.0      43.000000       1.0\n",
              "75%      2020.0       5.0      52.000000       1.0\n",
              "max      2020.0       5.0      90.000000       1.0"
            ]
          },
          "metadata": {
            "tags": []
          },
          "execution_count": 10
        }
      ]
    },
    {
      "cell_type": "code",
      "metadata": {
        "id": "n5jQiEvcJTGH",
        "colab": {
          "base_uri": "https://localhost:8080/",
          "height": 452
        },
        "outputId": "4103bc21-c622-4fc6-f7c4-a0a311f53b93"
      },
      "source": [
        "pd.crosstab(lista['especie'], lista['sexo'])"
      ],
      "execution_count": 11,
      "outputs": [
        {
          "output_type": "execute_result",
          "data": {
            "text/html": [
              "<div>\n",
              "<style scoped>\n",
              "    .dataframe tbody tr th:only-of-type {\n",
              "        vertical-align: middle;\n",
              "    }\n",
              "\n",
              "    .dataframe tbody tr th {\n",
              "        vertical-align: top;\n",
              "    }\n",
              "\n",
              "    .dataframe thead th {\n",
              "        text-align: right;\n",
              "    }\n",
              "</style>\n",
              "<table border=\"1\" class=\"dataframe\">\n",
              "  <thead>\n",
              "    <tr style=\"text-align: right;\">\n",
              "      <th>sexo</th>\n",
              "      <th>Feminino</th>\n",
              "      <th>Masculino</th>\n",
              "    </tr>\n",
              "    <tr>\n",
              "      <th>especie</th>\n",
              "      <th></th>\n",
              "      <th></th>\n",
              "    </tr>\n",
              "  </thead>\n",
              "  <tbody>\n",
              "    <tr>\n",
              "      <th>Amp. Social Pessoa Portadora Deficiencia</th>\n",
              "      <td>54</td>\n",
              "      <td>73</td>\n",
              "    </tr>\n",
              "    <tr>\n",
              "      <th>Amparo Social ao Idoso</th>\n",
              "      <td>1</td>\n",
              "      <td>0</td>\n",
              "    </tr>\n",
              "    <tr>\n",
              "      <th>Aposent. Invalidez Acidente Trabalho</th>\n",
              "      <td>7</td>\n",
              "      <td>28</td>\n",
              "    </tr>\n",
              "    <tr>\n",
              "      <th>Aposentadoria Invalidez Previdenciária</th>\n",
              "      <td>407</td>\n",
              "      <td>706</td>\n",
              "    </tr>\n",
              "    <tr>\n",
              "      <th>Auxílio Acidente</th>\n",
              "      <td>351</td>\n",
              "      <td>1197</td>\n",
              "    </tr>\n",
              "    <tr>\n",
              "      <th>Auxílio Acidente Previdenciário</th>\n",
              "      <td>182</td>\n",
              "      <td>673</td>\n",
              "    </tr>\n",
              "    <tr>\n",
              "      <th>Auxílio Doenca Previdenciário</th>\n",
              "      <td>80283</td>\n",
              "      <td>77537</td>\n",
              "    </tr>\n",
              "    <tr>\n",
              "      <th>Auxílio Doenca por Acidente do Trabalho</th>\n",
              "      <td>235</td>\n",
              "      <td>430</td>\n",
              "    </tr>\n",
              "    <tr>\n",
              "      <th>Auxílio Salario Maternidade</th>\n",
              "      <td>38</td>\n",
              "      <td>0</td>\n",
              "    </tr>\n",
              "    <tr>\n",
              "      <th>Auxílio Suplementar Acidente Trabalho</th>\n",
              "      <td>2</td>\n",
              "      <td>8</td>\n",
              "    </tr>\n",
              "    <tr>\n",
              "      <th>Benefício Indenizatório a Cargo da União</th>\n",
              "      <td>8</td>\n",
              "      <td>7</td>\n",
              "    </tr>\n",
              "    <tr>\n",
              "      <th>Pensão por Morte Previdenciária</th>\n",
              "      <td>5</td>\n",
              "      <td>4</td>\n",
              "    </tr>\n",
              "  </tbody>\n",
              "</table>\n",
              "</div>"
            ],
            "text/plain": [
              "sexo                                      Feminino  Masculino\n",
              "especie                                                      \n",
              "Amp. Social Pessoa Portadora Deficiencia        54         73\n",
              "Amparo Social ao Idoso                           1          0\n",
              "Aposent. Invalidez Acidente Trabalho             7         28\n",
              "Aposentadoria Invalidez Previdenciária         407        706\n",
              "Auxílio Acidente                               351       1197\n",
              "Auxílio Acidente Previdenciário                182        673\n",
              "Auxílio Doenca Previdenciário                80283      77537\n",
              "Auxílio Doenca por Acidente do Trabalho        235        430\n",
              "Auxílio Salario Maternidade                     38          0\n",
              "Auxílio Suplementar Acidente Trabalho            2          8\n",
              "Benefício Indenizatório a Cargo da União         8          7\n",
              "Pensão por Morte Previdenciária                  5          4"
            ]
          },
          "metadata": {
            "tags": []
          },
          "execution_count": 11
        }
      ]
    }
  ]
}